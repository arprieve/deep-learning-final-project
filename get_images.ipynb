{
 "cells": [
  {
   "attachments": {},
   "cell_type": "markdown",
   "metadata": {},
   "source": [
    "# Data Processing"
   ]
  },
  {
   "cell_type": "code",
   "execution_count": 26,
   "metadata": {},
   "outputs": [
    {
     "data": {
      "text/html": [
       "<div>\n",
       "<style scoped>\n",
       "    .dataframe tbody tr th:only-of-type {\n",
       "        vertical-align: middle;\n",
       "    }\n",
       "\n",
       "    .dataframe tbody tr th {\n",
       "        vertical-align: top;\n",
       "    }\n",
       "\n",
       "    .dataframe thead th {\n",
       "        text-align: right;\n",
       "    }\n",
       "</style>\n",
       "<table border=\"1\" class=\"dataframe\">\n",
       "  <thead>\n",
       "    <tr style=\"text-align: right;\">\n",
       "      <th></th>\n",
       "      <th>name</th>\n",
       "      <th>location</th>\n",
       "    </tr>\n",
       "  </thead>\n",
       "  <tbody>\n",
       "    <tr>\n",
       "      <th>0</th>\n",
       "      <td>Acadia National Park</td>\n",
       "      <td>Maine</td>\n",
       "    </tr>\n",
       "    <tr>\n",
       "      <th>1</th>\n",
       "      <td>American Samoa National Park</td>\n",
       "      <td>American Samoa Territory</td>\n",
       "    </tr>\n",
       "    <tr>\n",
       "      <th>2</th>\n",
       "      <td>Arches National Park</td>\n",
       "      <td>Utah</td>\n",
       "    </tr>\n",
       "    <tr>\n",
       "      <th>3</th>\n",
       "      <td>Badlands National Park</td>\n",
       "      <td>South Dakota</td>\n",
       "    </tr>\n",
       "    <tr>\n",
       "      <th>4</th>\n",
       "      <td>Big Bend National Park</td>\n",
       "      <td>Texas</td>\n",
       "    </tr>\n",
       "    <tr>\n",
       "      <th>...</th>\n",
       "      <td>...</td>\n",
       "      <td>...</td>\n",
       "    </tr>\n",
       "    <tr>\n",
       "      <th>56</th>\n",
       "      <td>Wind Cave National Park</td>\n",
       "      <td>South Dakota</td>\n",
       "    </tr>\n",
       "    <tr>\n",
       "      <th>57</th>\n",
       "      <td>Wrangell-St. Elias National Park</td>\n",
       "      <td>Alaska</td>\n",
       "    </tr>\n",
       "    <tr>\n",
       "      <th>58</th>\n",
       "      <td>Yellowstone National Park</td>\n",
       "      <td>Wyoming</td>\n",
       "    </tr>\n",
       "    <tr>\n",
       "      <th>59</th>\n",
       "      <td>Yosemite National Park</td>\n",
       "      <td>California</td>\n",
       "    </tr>\n",
       "    <tr>\n",
       "      <th>60</th>\n",
       "      <td>Zion National Park</td>\n",
       "      <td>Utah</td>\n",
       "    </tr>\n",
       "  </tbody>\n",
       "</table>\n",
       "<p>61 rows × 2 columns</p>\n",
       "</div>"
      ],
      "text/plain": [
       "                                name                  location\n",
       "0               Acadia National Park                     Maine\n",
       "1       American Samoa National Park  American Samoa Territory\n",
       "2               Arches National Park                      Utah\n",
       "3             Badlands National Park              South Dakota\n",
       "4             Big Bend National Park                     Texas\n",
       "..                               ...                       ...\n",
       "56           Wind Cave National Park              South Dakota\n",
       "57  Wrangell-St. Elias National Park                    Alaska\n",
       "58         Yellowstone National Park                   Wyoming\n",
       "59            Yosemite National Park                California\n",
       "60                Zion National Park                      Utah\n",
       "\n",
       "[61 rows x 2 columns]"
      ]
     },
     "execution_count": 26,
     "metadata": {},
     "output_type": "execute_result"
    }
   ],
   "source": [
    "import numpy as np\n",
    "import pandas as dp\n",
    "\n",
    "national_parks = dp.read_csv(\"national-parks.csv\")\n",
    "national_parks"
   ]
  },
  {
   "attachments": {},
   "cell_type": "markdown",
   "metadata": {},
   "source": [
    "### Download Images From Bing\n",
    "\n",
    "I used this because they had a very simple python API"
   ]
  },
  {
   "cell_type": "code",
   "execution_count": null,
   "metadata": {},
   "outputs": [],
   "source": [
    "from bing_image_downloader import downloader\n",
    "\n",
    "extra_search_term = \" Landscape\"\n",
    "images_to_download = 400\n",
    "\n",
    "# Download images for \n",
    "for park in national_parks[\"name\"].tolist():\n",
    "    query_string = park + extra_search_term\n",
    "    downloader.download(query_string, limit=images_to_download, output_dir='dataset', force_replace=False, timeout=60, verbose=False)"
   ]
  },
  {
   "cell_type": "code",
   "execution_count": null,
   "metadata": {},
   "outputs": [],
   "source": [
    "import simple_image_download\n",
    "\n",
    "# Badlands\n",
    "# Biscayne\n",
    "# Channel Islands\n",
    "# Everglades\n",
    "# Indiana Dunes\n",
    "# Mammoth Cave\n",
    "\n",
    "# New River Gorge\n",
    "# White Sands\n",
    "\n",
    "# Download images for each park\n",
    "for park in national_parks[\"name\"].tolist():\n",
    "    downloader = simple_image_download.simple_image_download.Downloader()\n",
    "    downloader.extensions = '.jpg'\n",
    "\n",
    "    query_string = (park + extra_search_term).replace(\" \", \"+\")\n",
    "    print(query_string)\n",
    "    downloader.download(query_string, limit=500)"
   ]
  },
  {
   "attachments": {},
   "cell_type": "markdown",
   "metadata": {},
   "source": [
    "### Standardize Images"
   ]
  },
  {
   "cell_type": "code",
   "execution_count": null,
   "metadata": {},
   "outputs": [],
   "source": [
    "from PIL import Image\n",
    "import os, sys\n",
    "\n",
    "def resize(path):\n",
    "    dirs = os.listdir(path)\n",
    "    for item in dirs:\n",
    "        if os.path.isfile(path+item) and not item.startswith(\".\") and not item.endswith(\"resized.jpg\") and item.endswith(\".jpeg\"):\n",
    "            im = Image.open(path+item).convert('RGB')\n",
    "            f, e = os.path.splitext(path + item)\n",
    "            imResize = im.resize((256, 256), Image.ANTIALIAS)\n",
    "            imResize.save(f + ' resized.jpg', 'JPEG', quality=90)\n",
    "\n",
    "# Resize for every image downloaded\n",
    "for park in national_parks[\"name\"].tolist()[52:]:\n",
    "    query_string = (park + extra_search_term).replace(\" \", \"+\")\n",
    "    path = \"simple_images/\" + query_string + \"/\"\n",
    "    print(\"Resizing:\", path)\n",
    "    resize(path)"
   ]
  },
  {
   "cell_type": "code",
   "execution_count": 95,
   "metadata": {},
   "outputs": [],
   "source": [
    "def delete_images(path):\n",
    "    dirs = os.listdir(path)\n",
    "    for item in dirs:\n",
    "        if os.path.isfile(path+item) and not item.startswith(\".\") and not item.endswith(\"resized.jpg\"):\n",
    "            os.remove(path+item)\n",
    "\n",
    "# Delete the non resized images\n",
    "for park in national_parks[\"name\"].tolist():\n",
    "    query_string = (park + extra_search_term).replace(\" \", \"+\")\n",
    "    path = \"simple_images/\" + query_string + \"/\"\n",
    "    delete_images(path)"
   ]
  }
 ],
 "metadata": {
  "kernelspec": {
   "display_name": "cse446",
   "language": "python",
   "name": "python3"
  },
  "language_info": {
   "codemirror_mode": {
    "name": "ipython",
    "version": 3
   },
   "file_extension": ".py",
   "mimetype": "text/x-python",
   "name": "python",
   "nbconvert_exporter": "python",
   "pygments_lexer": "ipython3",
   "version": "3.8.10"
  },
  "orig_nbformat": 4,
  "vscode": {
   "interpreter": {
    "hash": "6047351461a7bfefa99e8ad75da79d4d2ff134f5f72dd4ddfe8a8a9a477d009e"
   }
  }
 },
 "nbformat": 4,
 "nbformat_minor": 2
}
